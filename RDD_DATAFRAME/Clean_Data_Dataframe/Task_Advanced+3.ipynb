{
 "cells": [
  {
   "cell_type": "markdown",
   "metadata": {},
   "source": [
    "### Task Advanced 3 \n",
    "Typically, data to be analyzed in real world applications is not fully clean. Frequently, there are missing fields, invalid values, etc. \n",
    "\n",
    "A civil engineer is working in the design of a bridge, trying to find different alternatives, each of them having a total bridge weight and the degree of deformation in certain parts. After using an optimization software, she/he has obtained a .tsv file (attached to this task) with a number of rows indicating different trade-off designs. A plot of this file should look like like this graph:\n",
    "\n",
    "Unfortunately, some lines/fields have invalid values (blank lines, missing values, characters instead of numbers, etc), and there are also repeteated lines.\n",
    "\n",
    "This task consists in developing a Jupyter notebook with PySpark to read the file, remove all the invalid lines and remove those that are appears more than one time, and plot the clean data.\n",
    "\n",
    "The deliverable will be the Jupyter notebook."
   ]
  },
  {
   "cell_type": "code",
   "execution_count": 1,
   "metadata": {
    "collapsed": true
   },
   "outputs": [],
   "source": [
    "# -*- coding: utf-8 -*-\n",
    "\"\"\"\n",
    "Created on Thu Mar 15 12:11:51 2018\n",
    "\n",
    "@author: Juan Miguel\n",
    "\"\"\"\n",
    "\n",
    "from pyspark.sql import SparkSession\n",
    "from pyspark.sql.types import *\n",
    "\n",
    "%matplotlib inline\n",
    "\n",
    "import numpy as np\n",
    "import pandas as pd\n",
    "import matplotlib.pyplot as plt"
   ]
  },
  {
   "cell_type": "markdown",
   "metadata": {},
   "source": [
    "#### Get or Create SparkSession."
   ]
  },
  {
   "cell_type": "code",
   "execution_count": 42,
   "metadata": {
    "collapsed": true
   },
   "outputs": [],
   "source": [
    "   spark_session = SparkSession.builder \\\n",
    "          .appName(\"cleaning Dataframe\") \\\n",
    "          .getOrCreate()\n",
    "    \n"
   ]
  },
  {
   "cell_type": "markdown",
   "metadata": {},
   "source": [
    "#### We load the data from TSV file, and we set StructType of the Dataframe with DoubleType StructField. Now, We only have doubleType rows like we wanted to.\n"
   ]
  },
  {
   "cell_type": "code",
   "execution_count": 44,
   "metadata": {},
   "outputs": [],
   "source": [
    "# We set structfield columns to DoubleType thus, we eliminate String rows.\n",
    "\n",
    "schema = StructType([StructField('weight', DoubleType(),False), \\\n",
    "                        StructField('Deformation', DoubleType(), False)])\n",
    "\n",
    "   \n",
    "dataBrigde = spark_session.read.csv(\n",
    "        path='C:/DATOS/MASTER BIG DATA/Master Big Data/Modulo 9 ApacheSpark/py/Task/AdvancedTask3/bridge.tsv',\n",
    "        sep=\" \",\n",
    "        encoding='UTF-8',\n",
    "        comment=None,\n",
    "        header=True,\n",
    "        schema=schema)\n"
   ]
  },
  {
   "cell_type": "markdown",
   "metadata": {},
   "source": [
    "#### Inspecting the data.\n"
   ]
  },
  {
   "cell_type": "code",
   "execution_count": 41,
   "metadata": {},
   "outputs": [
    {
     "name": "stdout",
     "output_type": "stream",
     "text": [
      "+-------------------+-------------------+\n",
      "|weight             |Deformation        |\n",
      "+-------------------+-------------------+\n",
      "|0.1600004095193499 |0.599999565925713  |\n",
      "|0.7999996334783612 |0.105573019041743  |\n",
      "|0.3474026835213373 |0.41059125458931517|\n",
      "|0.3409188533102768 |0.4161174319177898 |\n",
      "|0.33448446398543363|0.4216536843155324 |\n",
      "|0.35390522300019   |0.4051006617019322 |\n",
      "|0.3280925245214544 |0.42720638686411727|\n",
      "|0.3217358217215534 |0.43278238841939665|\n",
      "|0.36039794488768706|0.3996684723945372 |\n",
      "|0.3154172733712044 |0.4383797783455403 |\n",
      "|0.3669234753668437 |0.3942579191642874 |\n",
      "|0.37345638999357544|0.3888892255982278 |\n",
      "|0.3091488764126171 |0.44398842406579203|\n",
      "|0.3800121516706126 |0.38354874656944227|\n",
      "|0.30295098086750766|0.44959017652156535|\n",
      "|0.2967605824612727 |null               |\n",
      "|0.38657333470529276|0.3782497818184258 |\n",
      "|0.29063517731969263|0.4608941011769619 |\n",
      "|0.28454896813201636|0.46656868557912423|\n",
      "|0.39313313091886176|0.3729967066807797 |\n",
      "|0.27851604294199267|0.4722538129822601 |\n",
      "|null               |null               |\n",
      "|0.40628079773284537|0.3625984029187178 |\n",
      "|0.2725391509923811 |0.47794719128862156|\n",
      "|0.4128701094135405 |0.35745030727941896|\n",
      "+-------------------+-------------------+\n",
      "only showing top 25 rows\n",
      "\n"
     ]
    }
   ],
   "source": [
    "dataBrigde.show(n=25, truncate=False)"
   ]
  },
  {
   "cell_type": "markdown",
   "metadata": {},
   "source": [
    "#### Eliminate Null Rows."
   ]
  },
  {
   "cell_type": "code",
   "execution_count": 72,
   "metadata": {},
   "outputs": [
    {
     "name": "stdout",
     "output_type": "stream",
     "text": [
      "+-------------------+-------------------+\n",
      "|             weight|        Deformation|\n",
      "+-------------------+-------------------+\n",
      "| 0.1600004095193499|  0.599999565925713|\n",
      "| 0.7999996334783612|  0.105573019041743|\n",
      "| 0.3474026835213373|0.41059125458931517|\n",
      "| 0.3409188533102768| 0.4161174319177898|\n",
      "|0.33448446398543363| 0.4216536843155324|\n",
      "|   0.35390522300019| 0.4051006617019322|\n",
      "| 0.3280925245214544|0.42720638686411727|\n",
      "| 0.3217358217215534|0.43278238841939665|\n",
      "|0.36039794488768706| 0.3996684723945372|\n",
      "| 0.3154172733712044| 0.4383797783455403|\n",
      "| 0.3669234753668437| 0.3942579191642874|\n",
      "|0.37345638999357544| 0.3888892255982278|\n",
      "| 0.3091488764126171|0.44398842406579203|\n",
      "| 0.3800121516706126|0.38354874656944227|\n",
      "|0.30295098086750766|0.44959017652156535|\n",
      "|0.38657333470529276| 0.3782497818184258|\n",
      "|0.29063517731969263| 0.4608941011769619|\n",
      "|0.28454896813201636|0.46656868557912423|\n",
      "|0.39313313091886176| 0.3729967066807797|\n",
      "|0.27851604294199267| 0.4722538129822601|\n",
      "+-------------------+-------------------+\n",
      "only showing top 20 rows\n",
      "\n"
     ]
    }
   ],
   "source": [
    "# We can see several null rows.\n",
    "dataBrigde_clean_null =dataBrigde.na.drop('any')\n",
    "\n",
    "dataBrigde_clean_null.show()\n"
   ]
  },
  {
   "cell_type": "markdown",
   "metadata": {},
   "source": [
    "#### Eliminate duplicate Rows."
   ]
  },
  {
   "cell_type": "code",
   "execution_count": 73,
   "metadata": {},
   "outputs": [
    {
     "name": "stdout",
     "output_type": "stream",
     "text": [
      "+-------------------+-------------------+\n",
      "|             weight|        Deformation|\n",
      "+-------------------+-------------------+\n",
      "| 0.1600004095193499|  0.599999565925713|\n",
      "| 0.7999996334783612|  0.105573019041743|\n",
      "| 0.3474026835213373|0.41059125458931517|\n",
      "| 0.3409188533102768| 0.4161174319177898|\n",
      "|0.33448446398543363| 0.4216536843155324|\n",
      "|   0.35390522300019| 0.4051006617019322|\n",
      "| 0.3280925245214544|0.42720638686411727|\n",
      "| 0.3217358217215534|0.43278238841939665|\n",
      "|0.36039794488768706| 0.3996684723945372|\n",
      "| 0.3154172733712044| 0.4383797783455403|\n",
      "| 0.3669234753668437| 0.3942579191642874|\n",
      "|0.37345638999357544| 0.3888892255982278|\n",
      "| 0.3091488764126171|0.44398842406579203|\n",
      "| 0.3800121516706126|0.38354874656944227|\n",
      "|0.30295098086750766|0.44959017652156535|\n",
      "|0.38657333470529276| 0.3782497818184258|\n",
      "|0.29063517731969263| 0.4608941011769619|\n",
      "|0.28454896813201636|0.46656868557912423|\n",
      "|0.39313313091886176| 0.3729967066807797|\n",
      "|0.27851604294199267| 0.4722538129822601|\n",
      "+-------------------+-------------------+\n",
      "only showing top 20 rows\n",
      "\n"
     ]
    }
   ],
   "source": [
    "data_cleaned_Brigde = dataBrigde_clean_null.drop_duplicates()\n",
    "\n",
    "dataBrigde_clean_null.show()"
   ]
  },
  {
   "cell_type": "markdown",
   "metadata": {},
   "source": [
    "#### Lastly, we have the data clean."
   ]
  },
  {
   "cell_type": "code",
   "execution_count": 88,
   "metadata": {},
   "outputs": [
    {
     "name": "stdout",
     "output_type": "stream",
     "text": [
      "          weight  Deformation\n",
      "count  97.000000    97.000000\n",
      "mean    0.464048     0.334505\n",
      "std     0.191729     0.146236\n",
      "min     0.160000     0.105573\n",
      "25%     0.290635     0.207571\n",
      "50%     0.459155     0.322391\n",
      "75%     0.627943     0.460894\n",
      "max     0.800000     0.600000\n"
     ]
    }
   ],
   "source": [
    "# Pass to Panda.\n",
    "dataframepandas_cleaned_Brigde = data_cleaned_Brigde.toPandas()\n",
    "    \n",
    "print(dataframepandas_cleaned_Brigde.describe())\n"
   ]
  },
  {
   "cell_type": "markdown",
   "metadata": {},
   "source": [
    "#### Plotting dataframe.\n"
   ]
  },
  {
   "cell_type": "code",
   "execution_count": 86,
   "metadata": {},
   "outputs": [
    {
     "data": {
      "image/png": "[encoded data removed]",
      "text/plain": [
       "<matplotlib.figure.Figure at 0x1871107b5c0>"
      ]
     },
     "metadata": {},
     "output_type": "display_data"
    }
   ],
   "source": [
    "dataframepandas_cleaned_Brigde.plot.scatter(x='weight',\n",
    "                                            y='Deformation',\n",
    "                                            figsize =(16,9),\n",
    "                                            grid =True,\n",
    "                                            title ='Bridge.TSV Deformation/weight',\n",
    "                                            marker = 'o',\n",
    "                                            color = 'red')\n",
    "plt.show()"
   ]
  }
 ],
 "metadata": {
  "kernelspec": {
   "display_name": "Python 3",
   "language": "python",
   "name": "python3"
  },
  "language_info": {
   "codemirror_mode": {
    "name": "ipython",
    "version": 3
   },
   "file_extension": ".py",
   "mimetype": "text/x-python",
   "name": "python",
   "nbconvert_exporter": "python",
   "pygments_lexer": "ipython3",
   "version": "3.6.3"
  }
 },
 "nbformat": 4,
 "nbformat_minor": 2
}
